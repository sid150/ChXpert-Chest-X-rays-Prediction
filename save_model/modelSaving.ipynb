{
 "cells": [
  {
   "cell_type": "code",
   "execution_count": 1,
   "id": "c37f954e-0f15-4c49-9216-fdf198f5cba1",
   "metadata": {},
   "outputs": [],
   "source": [
    "import torch\n",
    "import torch.nn.functional as F\n",
    "import torchvision.transforms as transforms\n",
    "from PIL import Image\n",
    "import numpy as np"
   ]
  },
  {
   "cell_type": "code",
   "execution_count": 2,
   "id": "9d3ac528-d9fe-45b0-b949-3a5c76777713",
   "metadata": {},
   "outputs": [],
   "source": [
    "import os\n",
    "import pandas as pd\n",
    "import numpy as np\n",
    "import torch\n",
    "import torch.nn as nn\n",
    "import torch.optim as optim\n",
    "from torch.utils.data import DataLoader\n",
    "from torchvision import models, transforms\n",
    "from PIL import Image\n",
    "from sklearn.metrics import roc_auc_score, precision_recall_fscore_support, accuracy_score\n",
    "\n",
    "import lightning as L\n",
    "from lightning import Trainer\n",
    "from lightning.pytorch.callbacks import ModelCheckpoint, EarlyStopping, BackboneFinetuning\n",
    "from lightning.pytorch.loggers import MLFlowLogger\n",
    "\n",
    "import mlflow\n",
    "from model_def import LightningCheXpertModel"
   ]
  },
  {
   "cell_type": "code",
   "execution_count": 3,
   "id": "172959d5-998f-4396-85fd-6144e1d1f946",
   "metadata": {},
   "outputs": [
    {
     "data": {
      "text/plain": [
       "<Experiment: artifact_location='mlflow-artifacts:/2', creation_time=1746807822515, experiment_id='2', last_update_time=1746807822515, lifecycle_stage='active', name='chexpert-classifier', tags={}>"
      ]
     },
     "execution_count": 3,
     "metadata": {},
     "output_type": "execute_result"
    }
   ],
   "source": [
    "import mlflow\n",
    "from mlflow.tracking import MlflowClient\n",
    "\n",
    "# We don't have to set MLflow tracking URI because we set it in an environment variable\n",
    "mlflow.set_tracking_uri(\"http://129.114.26.91:8000/\") \n",
    "\n",
    "client = MlflowClient()\n",
    "experiment = client.get_experiment_by_name(\"chexpert-classifier\")\n",
    "experiment"
   ]
  },
  {
   "cell_type": "code",
   "execution_count": 4,
   "id": "a00b590f-8266-4df2-8bd7-fb4b923f00a0",
   "metadata": {},
   "outputs": [],
   "source": [
    "runs = client.search_runs(experiment_ids=[experiment.experiment_id], \n",
    "    order_by=[\"metrics.val_accuracy DESC\"], \n",
    "    max_results=2)"
   ]
  },
  {
   "cell_type": "code",
   "execution_count": 5,
   "id": "2743e718-e989-4498-9421-b16ef7063e83",
   "metadata": {},
   "outputs": [
    {
     "name": "stdout",
     "output_type": "stream",
     "text": [
      "Best Run ID: 8fa6d6af16584563951285b9fbfcf7c7\n",
      "Test Accuracy: 0.8118082284927368\n",
      "Model URI: runs:/8fa6d6af16584563951285b9fbfcf7c7/model\n"
     ]
    }
   ],
   "source": [
    "best_run = runs[0]  # The first run is the best due to sorting\n",
    "best_run_id = best_run.info.run_id\n",
    "best_test_accuracy = best_run.data.metrics[\"val_accuracy\"]\n",
    "model_uri = f\"runs:/{best_run_id}/model\"\n",
    "\n",
    "print(f\"Best Run ID: {best_run_id}\")\n",
    "print(f\"Test Accuracy: {best_test_accuracy}\")\n",
    "print(f\"Model URI: {model_uri}\")"
   ]
  },
  {
   "cell_type": "code",
   "execution_count": 6,
   "id": "3cba2d17-bea7-4cae-9083-8ed9c521adc0",
   "metadata": {},
   "outputs": [],
   "source": [
    "def preprocess_image(img):\n",
    "    transform = transforms.Compose([\n",
    "        transforms.Resize((224, 224)),\n",
    "        transforms.CenterCrop(224),\n",
    "        transforms.ToTensor(),\n",
    "        transforms.Normalize(mean=[0.485, 0.456, 0.406], std=[0.229, 0.224, 0.225]),\n",
    "    ])\n",
    "\n",
    "    return transform(img).unsqueeze(0)"
   ]
  },
  {
   "cell_type": "code",
   "execution_count": 7,
   "id": "4c1b7f58-33b0-4c0f-8f79-927cb7f41e07",
   "metadata": {},
   "outputs": [],
   "source": [
    "# class LightningCheXpertModel(L.LightningModule):\n",
    "#         def __init__(self, config, num_classes=14):\n",
    "#             super().__init__()\n",
    "#             self.save_hyperparameters()\n",
    "#             self.model = models.densenet121(weights=models.DenseNet121_Weights.DEFAULT)\n",
    "#             in_features = self.model.classifier.in_features\n",
    "#             self.model.classifier = nn.Linear(in_features, num_classes)\n",
    "#             self.criterion = nn.BCEWithLogitsLoss()\n",
    "#             self.lr = config[\"lr\"]\n",
    "\n",
    "#         @property\n",
    "#         def backbone(self):\n",
    "#             return self.model.features\n",
    "\n",
    "#         def forward(self, x):\n",
    "#             return self.model(x)\n",
    "\n",
    "#         def training_step(self, batch, batch_idx):\n",
    "#             x, y = batch\n",
    "#             logits = self(x)\n",
    "#             mask = (y == 0.0) | (y == 1.0)\n",
    "#             loss = self.criterion(logits[mask], y[mask])\n",
    "#             self.log(\"train_loss\", loss, prog_bar=True, sync_dist=True)\n",
    "#             return loss\n",
    "\n",
    "#         def validation_step(self, batch, batch_idx):\n",
    "#             x, y = batch\n",
    "#             logits = self(x)\n",
    "#             probs = torch.sigmoid(logits)\n",
    "#             mask = (y == 0.0) | (y == 1.0)\n",
    "#             y_true = y[mask].detach().cpu().numpy()\n",
    "#             y_pred = (probs[mask] > 0.5).float().detach().cpu().numpy()\n",
    "\n",
    "#             loss = self.criterion(logits[mask], y[mask])\n",
    "#             precision, recall, f1, _ = precision_recall_fscore_support(y_true, y_pred, average='macro', zero_division=0)\n",
    "#             acc = accuracy_score(y_true, y_pred)\n",
    "#             try:\n",
    "#                 auroc = roc_auc_score(y_true, probs[mask].detach().cpu().numpy(), average='macro')\n",
    "#             except:\n",
    "#                 auroc = 0.0\n",
    "\n",
    "#             self.log(\"val_loss\", loss, prog_bar=True, sync_dist=True)\n",
    "#             self.log(\"val_precision\", precision, prog_bar=True, sync_dist=True)\n",
    "#             self.log(\"val_recall\", recall, prog_bar=True, sync_dist=True)\n",
    "#             self.log(\"val_f1\", f1, prog_bar=True, sync_dist=True)\n",
    "#             self.log(\"val_accuracy\", acc, prog_bar=True, sync_dist=True)\n",
    "#             self.log(\"val_auroc\", auroc, prog_bar=True, sync_dist=True)\n",
    "#             return loss\n",
    "\n",
    "#         def configure_optimizers(self):\n",
    "#             return optim.Adam(self.model.classifier.parameters(), lr=self.lr)\n"
   ]
  },
  {
   "cell_type": "code",
   "execution_count": 8,
   "id": "9137b126-57ba-43d9-ab3a-fb774ccc82b6",
   "metadata": {},
   "outputs": [
    {
     "name": "stderr",
     "output_type": "stream",
     "text": [
      "Exception ignored in: <function tqdm.__del__ at 0x79d6f45e2280>\n",
      "Traceback (most recent call last):\n",
      "  File \"/opt/conda/lib/python3.9/site-packages/tqdm/std.py\", line 1147, in __del__\n",
      "    self.close()\n",
      "  File \"/opt/conda/lib/python3.9/site-packages/tqdm/notebook.py\", line 286, in close\n",
      "    self.disp(bar_style='danger', check_delay=False)\n",
      "AttributeError: 'tqdm' object has no attribute 'disp'\n",
      "2025/05/10 18:53:20 WARNING mlflow.pytorch: Stored model version '2.7.0+cu126' does not match installed PyTorch version '2.5.1+cpu'\n"
     ]
    }
   ],
   "source": [
    "model = mlflow.pytorch.load_model(model_uri)"
   ]
  },
  {
   "cell_type": "code",
   "execution_count": 9,
   "id": "d56d4ac4-fa81-4da5-99d5-55b567890439",
   "metadata": {},
   "outputs": [],
   "source": [
    "import os\n",
    "import io"
   ]
  },
  {
   "cell_type": "code",
   "execution_count": 10,
   "id": "44ff64ed-b2b0-409d-b096-37eed4780905",
   "metadata": {},
   "outputs": [
    {
     "name": "stdout",
     "output_type": "stream",
     "text": [
      "/home/jovyan\n"
     ]
    }
   ],
   "source": [
    "print(os.getcwd())"
   ]
  },
  {
   "cell_type": "code",
   "execution_count": 11,
   "id": "10c0c8bb-58a7-4e99-9346-621cde3aaf47",
   "metadata": {},
   "outputs": [
    {
     "name": "stdout",
     "output_type": "stream",
     "text": [
      "Model size: 27.15 MB\n"
     ]
    }
   ],
   "source": [
    "def get_model_size_in_mb(model) -> float:\n",
    "    buffer = io.BytesIO()\n",
    "    torch.save(model.state_dict(), buffer)\n",
    "    size_mb = buffer.getbuffer().nbytes / (1024 ** 2)\n",
    "    return size_mb\n",
    "\n",
    "# Example usage:\n",
    "size = get_model_size_in_mb(model)\n",
    "print(f\"Model size: {size:.2f} MB\")"
   ]
  },
  {
   "cell_type": "code",
   "execution_count": 15,
   "id": "1871be1e-cf16-4aba-b28f-4bdb25bebe08",
   "metadata": {},
   "outputs": [],
   "source": [
    "save_dir = r\"./\"\n",
    "save_path = os.path.join(save_dir, \"state_dict.pt\")\n",
    "os.makedirs(save_dir, exist_ok=True)\n",
    "torch.save(model.state_dict(), save_path)"
   ]
  },
  {
   "cell_type": "code",
   "execution_count": 13,
   "id": "218f4500-b6db-4c5b-b648-ba7f2e02349e",
   "metadata": {},
   "outputs": [
    {
     "name": "stdout",
     "output_type": "stream",
     "text": [
      "<class '__main__.LightningCheXpertModel'>\n",
      "__main__\n"
     ]
    }
   ],
   "source": [
    "print(model.__class__)\n",
    "print(model.__class__.__module__)"
   ]
  },
  {
   "cell_type": "code",
   "execution_count": 16,
   "id": "20f2d28b-a530-4a53-b7c5-a73e68056af4",
   "metadata": {},
   "outputs": [],
   "source": [
    "config = {\n",
    "    \"initial_epochs\": 1,\n",
    "    \"total_epochs\": 2,\n",
    "    \"patience\": 5,\n",
    "    \"batch_size\": 64,\n",
    "    \"lr\": 1e-4,\n",
    "    \"fine_tune_lr\": 1e-6,\n",
    "}"
   ]
  },
  {
   "cell_type": "code",
   "execution_count": 19,
   "id": "69b634bb-8035-4de6-bc2b-bd95448d566f",
   "metadata": {},
   "outputs": [
    {
     "name": "stderr",
     "output_type": "stream",
     "text": [
      "/tmp/ipykernel_310/4279995210.py:3: FutureWarning: You are using `torch.load` with `weights_only=False` (the current default value), which uses the default pickle module implicitly. It is possible to construct malicious pickle data which will execute arbitrary code during unpickling (See https://github.com/pytorch/pytorch/blob/main/SECURITY.md#untrusted-models for more details). In a future release, the default value for `weights_only` will be flipped to `True`. This limits the functions that could be executed during unpickling. Arbitrary objects will no longer be allowed to be loaded via this mode unless they are explicitly allowlisted by the user via `torch.serialization.add_safe_globals`. We recommend you start setting `weights_only=True` for any use case where you don't have full control of the loaded file. Please open an issue on GitHub for any issues related to this experimental feature.\n",
      "  model.load_state_dict(torch.load(r\"./state_dict.pt\"))\n"
     ]
    },
    {
     "data": {
      "text/plain": [
       "<All keys matched successfully>"
      ]
     },
     "execution_count": 19,
     "metadata": {},
     "output_type": "execute_result"
    }
   ],
   "source": [
    "from model_def import LightningCheXpertModel\n",
    "model = LightningCheXpertModel(config)\n",
    "model.load_state_dict(torch.load(r\"./state_dict.pt\"))\n",
    "\n"
   ]
  },
  {
   "cell_type": "code",
   "execution_count": 21,
   "id": "ede59be8-2a7e-4665-84ca-052782837602",
   "metadata": {},
   "outputs": [],
   "source": [
    "model.eval()\n",
    "\n",
    "# 4. Save full model\n",
    "os.makedirs(\"saved_model\", exist_ok=True)\n",
    "torch.save(model, \"saved_model/mlflowModel1.pt\")"
   ]
  },
  {
   "cell_type": "code",
   "execution_count": null,
   "id": "3d4771ca-5b15-4d0f-adff-a86339a7978e",
   "metadata": {},
   "outputs": [],
   "source": [
    "model = torch.load(\"saved_model/mlflowModel1.pt\")\n",
    "\n",
    "# 2. Set it to evaluation mode for inference\n",
    "model.eval()\n",
    "\n",
    "image_path = \"test_image.jpeg\"\n",
    "image = Image.open(image_path).convert(\"RGB\")\n",
    "image_tensor = preprocess_image(image)\n",
    "\n",
    "# 3. Use it for inference\n",
    "with torch.no_grad():\n",
    "    output = model(image_tensor)"
   ]
  }
 ],
 "metadata": {
  "kernelspec": {
   "display_name": "Python 3 (ipykernel)",
   "language": "python",
   "name": "python3"
  },
  "language_info": {
   "codemirror_mode": {
    "name": "ipython",
    "version": 3
   },
   "file_extension": ".py",
   "mimetype": "text/x-python",
   "name": "python",
   "nbconvert_exporter": "python",
   "pygments_lexer": "ipython3",
   "version": "3.9.7"
  }
 },
 "nbformat": 4,
 "nbformat_minor": 5
}
