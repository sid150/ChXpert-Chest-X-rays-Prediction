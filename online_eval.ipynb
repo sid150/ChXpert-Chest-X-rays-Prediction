{
 "cells": [
  {
   "cell_type": "code",
   "execution_count": null,
   "id": "2fca1857-c36b-456a-bc97-8942ac781eb4",
   "metadata": {},
   "outputs": [],
   "source": [
    "import os, base64, time, random, requests\n",
    "from concurrent.futures import ThreadPoolExecutor, as_completed\n",
    "import torch\n",
    "from torch.utils.data import DataLoader\n",
    "from torchvision import datasets, transforms\n",
    "import numpy as np\n",
    "import matplotlib.pyplot as plt\n",
    "import seaborn as sns\n",
    "from PIL import Image"
   ]
  },
  {
   "cell_type": "markdown",
   "id": "b2d136b3-987a-47ec-891b-3e636aeb6c54",
   "metadata": {},
   "source": [
    "`http://129.114.26.91:8000/docs` if running on node1, metrics scraped by prometheus \\\n",
    "`http://129.114.26.91:5050` - serving website, if on node1 \\\n",
    "`http://129.114.26.91:9090` - Prometheus Web UI, "
   ]
  },
  {
   "cell_type": "code",
   "execution_count": null,
   "id": "67a5b3dd-2759-47ff-b60c-2307dea12f75",
   "metadata": {},
   "outputs": [],
   "source": []
  }
 ],
 "metadata": {
  "kernelspec": {
   "display_name": "Python 3 (ipykernel)",
   "language": "python",
   "name": "python3"
  },
  "language_info": {
   "codemirror_mode": {
    "name": "ipython",
    "version": 3
   },
   "file_extension": ".py",
   "mimetype": "text/x-python",
   "name": "python",
   "nbconvert_exporter": "python",
   "pygments_lexer": "ipython3",
   "version": "3.11.11"
  }
 },
 "nbformat": 4,
 "nbformat_minor": 5
}
