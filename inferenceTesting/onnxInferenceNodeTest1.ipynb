{
 "cells": [
  {
   "cell_type": "code",
   "execution_count": 13,
   "id": "1f84a402-23fb-4039-b0ac-fd7b41624ddd",
   "metadata": {},
   "outputs": [],
   "source": [
    "import os\n",
    "import time\n",
    "import numpy as np\n",
    "import torch\n",
    "import onnx\n",
    "import onnxruntime as ort\n",
    "from torchvision import datasets, transforms\n",
    "from torch.utils.data import DataLoader\n",
    "import pandas as pd\n",
    "from model_def import *"
   ]
  },
  {
   "cell_type": "code",
   "execution_count": 15,
   "id": "f47065a7-0db5-4b46-852a-29a3c224821b",
   "metadata": {},
   "outputs": [],
   "source": [
    "class CheXpertDataset(torch.utils.data.Dataset):\n",
    "    def __init__(self, csv_path, image_size=224):\n",
    "        self.df = pd.read_csv(csv_path)\n",
    "        self.image_paths = self.df[\"corrected_path\"].values\n",
    "\n",
    "        # Extract label columns from start to end\n",
    "        start_col = \"Enlarged Cardiomediastinum\"\n",
    "        end_col = \"No Finding\"\n",
    "        label_columns = self.df.loc[:, start_col:end_col].columns\n",
    "\n",
    "        # Load and convert -1 to 1\n",
    "        self.labels = self.df[label_columns].astype(np.float32).values\n",
    "        self.labels[self.labels == -1.0] = 1.0  # Convert -1s to 1s\n",
    "\n",
    "        self.transform = transforms.Compose([\n",
    "            transforms.Resize((image_size, image_size)),\n",
    "            transforms.Grayscale(num_output_channels=3),\n",
    "            transforms.ToTensor(),\n",
    "            transforms.Normalize([0.5]*3, [0.5]*3)\n",
    "        ])\n",
    "\n",
    "    def __len__(self):\n",
    "        return len(self.image_paths)\n",
    "\n",
    "    def __getitem__(self, idx):\n",
    "        # path = self.image_paths[idx].replace(\"/data/\", \"/\")\n",
    "        path = self.image_paths[idx].replace(\"/mnt/data/\", \"/mnt/dataset/\")\n",
    "        image = Image.open(path).convert(\"RGB\")\n",
    "        image = self.transform(image)\n",
    "        label = torch.tensor(self.labels[idx], dtype=torch.float32)\n",
    "        return image, label"
   ]
  },
  {
   "cell_type": "code",
   "execution_count": 16,
   "id": "60330b0d-6950-448b-8ca9-994e990e0c3b",
   "metadata": {},
   "outputs": [],
   "source": [
    "from torch.utils.data import DataLoader, Subset, random_split\n",
    "\n",
    "csv_path = r\"filtered_chexpert_paths.csv\"\n",
    "\n",
    "full_dataset = CheXpertDataset(csv_path)\n",
    "total_len = len(full_dataset)\n",
    "\n",
    "# Indices\n",
    "sixty_percent = int(0.6 * total_len)\n",
    "next_percent = int(0.62 * total_len)\n",
    "\n",
    "# First 60% for training/validation\n",
    "# dataset_60 = Subset(full_dataset, list(range(0, sixty_percent)))\n",
    "\n",
    "# Middle 30% for testing\n",
    "dataset_test = Subset(full_dataset, list(range(sixty_percent, next_percent)))\n",
    "\n",
    "test_loader = DataLoader(dataset_test, batch_size=16, shuffle=False, num_workers=4)"
   ]
  },
  {
   "cell_type": "code",
   "execution_count": 8,
   "id": "4d072c93-c6a3-41ef-b84f-0d0acb4f6a71",
   "metadata": {},
   "outputs": [
    {
     "name": "stdout",
     "output_type": "stream",
     "text": [
      "ONNX model saved to ./mlflowModel1.onnx\n"
     ]
    }
   ],
   "source": [
    "model_path = \"./mlflowModel1.pt\"  \n",
    "device = torch.device(\"cpu\")\n",
    "model = torch.load(model_path, map_location=device, weights_only=False)\n",
    "\n",
    "\n",
    "onnx_model_path = \"./mlflowModel1.onnx\"\n",
    "# dummy input - used to clarify the input shape\n",
    "dummy_input = torch.randn(1, 3, 224, 224)  \n",
    "torch.onnx.export(model, dummy_input, onnx_model_path,\n",
    "                  export_params=True, opset_version=20,\n",
    "                  do_constant_folding=True, input_names=['input'],\n",
    "                  output_names=['output'], dynamic_axes={\"input\": {0: \"batch_size\"}, \"output\": {0: \"batch_size\"}})\n",
    "\n",
    "print(f\"ONNX model saved to {onnx_model_path}\")\n",
    "\n",
    "onnx_model = onnx.load(onnx_model_path)\n",
    "onnx.checker.check_model(onnx_model)"
   ]
  },
  {
   "cell_type": "code",
   "execution_count": 17,
   "id": "d3bf665c-fd1c-4f4a-be95-0d245be9676f",
   "metadata": {},
   "outputs": [
    {
     "data": {
      "text/plain": [
       "['CPUExecutionProvider']"
      ]
     },
     "execution_count": 17,
     "metadata": {},
     "output_type": "execute_result"
    }
   ],
   "source": [
    "onnx_model_path = \"./mlflowModel1.onnx\"\n",
    "\n",
    "ort_session = ort.InferenceSession(onnx_model_path, providers=['CPUExecutionProvider'])\n",
    "\n",
    "ort_session.get_providers()"
   ]
  },
  {
   "cell_type": "code",
   "execution_count": 18,
   "id": "7a0259e0-d02b-48f8-9055-937bb615da68",
   "metadata": {},
   "outputs": [
    {
     "name": "stdout",
     "output_type": "stream",
     "text": [
      "Model Size on Disk: 28.28 MB\n"
     ]
    }
   ],
   "source": [
    "model_size = os.path.getsize(onnx_model_path)\n",
    "print(f\"Model Size on Disk: {model_size / 1e6 :.2f} MB\")"
   ]
  },
  {
   "cell_type": "code",
   "execution_count": 23,
   "id": "3a6b06a3-690e-4ce2-adc4-a438a92e50c3",
   "metadata": {},
   "outputs": [],
   "source": [
    "def benchmark_session(ort_session):\n",
    "    model_size = os.path.getsize(onnx_model_path)\n",
    "    print(f\"Model Size on Disk: {model_size / 1e6 :.2f} MB\")\n",
    "    \n",
    "    print(f\"Execution provider: {ort_session.get_providers()}\")\n",
    "    correct = 0\n",
    "    total = 0\n",
    "    \n",
    "    for images, labels in test_loader:\n",
    "        images_np = images.numpy()\n",
    "        # Run ONNX model inference\n",
    "        outputs = ort_session.run(None, {ort_session.get_inputs()[0].name: images_np})[0]  # shape: [B, 14]\n",
    "        # Predicted class: index of max logit\n",
    "        # predicted = np.argmax(outputs, axis=1)\n",
    "        preds = (1 / (1 + np.exp(-outputs))) > 0.5\n",
    "        # If labels are one-hot or multi-hot: use argmax\n",
    "        # target = np.argmax(labels.numpy(), axis=1)\n",
    "        # correct += np.sum(predicted == target)\n",
    "        # total += labels.size(0)\n",
    "        labels_np = labels.numpy().astype(bool)\n",
    "        correct += np.sum(preds == labels_np)\n",
    "        total += labels_np.size\n",
    "    \n",
    "    accuracy = (correct / total) * 100\n",
    "    print(f\"ONNX Model Accuracy: {accuracy:.2f}%\")\n",
    "\n",
    "    num_trials = 100  # Number of trials\n",
    "\n",
    "    # Get a single sample from the test data\n",
    "    \n",
    "    single_sample, _ = next(iter(test_loader))  \n",
    "    single_sample = single_sample[:1].numpy()\n",
    "    \n",
    "    # Warm-up run\n",
    "    ort_session.run(None, {ort_session.get_inputs()[0].name: single_sample})\n",
    "    \n",
    "    latencies = []\n",
    "    for _ in range(num_trials):\n",
    "        start_time = time.time()\n",
    "        ort_session.run(None, {ort_session.get_inputs()[0].name: single_sample})\n",
    "        latencies.append(time.time() - start_time)\n",
    "    print(f\"Inference Latency (single sample, median): {np.percentile(latencies, 50) * 1000:.2f} ms\")\n",
    "    print(f\"Inference Latency (single sample, 95th percentile): {np.percentile(latencies, 95) * 1000:.2f} ms\")\n",
    "    print(f\"Inference Latency (single sample, 99th percentile): {np.percentile(latencies, 99) * 1000:.2f} ms\")\n",
    "    print(f\"Inference Throughput (single sample): {num_trials/np.sum(latencies):.2f} FPS\")\n",
    "\n",
    "    \n",
    "    num_batches = 50  # Number of trials\n",
    "    # Get a batch from the test data\n",
    "    batch_input, _ = next(iter(test_loader))  \n",
    "    batch_input = batch_input.numpy()\n",
    "    \n",
    "    # Warm-up run\n",
    "    ort_session.run(None, {ort_session.get_inputs()[0].name: batch_input})\n",
    "    \n",
    "    batch_times = []\n",
    "    for _ in range(num_batches):\n",
    "        start_time = time.time()\n",
    "        ort_session.run(None, {ort_session.get_inputs()[0].name: batch_input})\n",
    "        batch_times.append(time.time() - start_time)\n",
    "        \n",
    "    batch_fps = (batch_input.shape[0] * num_batches) / np.sum(batch_times) \n",
    "    print(f\"Batch Throughput: {batch_fps:.2f} FPS\")"
   ]
  },
  {
   "cell_type": "code",
   "execution_count": 58,
   "id": "dbc5ac0f-c53d-4288-8ada-43136dbce489",
   "metadata": {},
   "outputs": [
    {
     "name": "stdout",
     "output_type": "stream",
     "text": [
      "Model Size on Disk: 28.28 MB\n",
      "Execution provider: ['CPUExecutionProvider']\n",
      "ONNX Model Accuracy: 77.96%\n",
      "Inference Latency (single sample, median): 25.73 ms\n",
      "Inference Latency (single sample, 95th percentile): 27.24 ms\n",
      "Inference Latency (single sample, 99th percentile): 32.52 ms\n",
      "Inference Throughput (single sample): 38.22 FPS\n",
      "Batch Throughput: 55.19 FPS\n"
     ]
    }
   ],
   "source": [
    "onnx_model_path = \"./mlflowModel1.onnx\"\n",
    "ort_session = ort.InferenceSession(onnx_model_path, providers=['CPUExecutionProvider'])\n",
    "benchmark_session(ort_session)"
   ]
  },
  {
   "cell_type": "code",
   "execution_count": 29,
   "id": "31584997-1d00-4d85-a8cb-41901d40e54b",
   "metadata": {},
   "outputs": [],
   "source": [
    "onnx_model_path = \"./mlflowModel1.onnx\"\n",
    "optimized_model_path = \"./mlflowModel1_optimized.onnx\"\n",
    "\n",
    "session_options = ort.SessionOptions()\n",
    "session_options.graph_optimization_level = ort.GraphOptimizationLevel.ORT_ENABLE_EXTENDED # apply graph optimizations\n",
    "session_options.optimized_model_filepath = optimized_model_path\n",
    "\n",
    "ort_session = ort.InferenceSession(onnx_model_path, sess_options=session_options, providers=['CPUExecutionProvider'])"
   ]
  },
  {
   "cell_type": "code",
   "execution_count": 30,
   "id": "f44ad3a1-37a3-4d92-9427-42dbb738b995",
   "metadata": {},
   "outputs": [
    {
     "name": "stdout",
     "output_type": "stream",
     "text": [
      "Model Size on Disk: 28.27 MB\n",
      "Execution provider: ['CPUExecutionProvider']\n",
      "ONNX Model Accuracy: 77.96%\n",
      "Inference Latency (single sample, median): 25.71 ms\n",
      "Inference Latency (single sample, 95th percentile): 31.86 ms\n",
      "Inference Latency (single sample, 99th percentile): 33.59 ms\n",
      "Inference Throughput (single sample): 36.66 FPS\n",
      "Batch Throughput: 59.96 FPS\n"
     ]
    }
   ],
   "source": [
    "onnx_model_path = \"./mlflowModel1_optimized.onnx\"\n",
    "ort_session = ort.InferenceSession(onnx_model_path, providers=['CPUExecutionProvider'])\n",
    "benchmark_session(ort_session)"
   ]
  },
  {
   "cell_type": "code",
   "execution_count": 31,
   "id": "f8c74d00-b366-4e7a-9fc0-0a57399cb28b",
   "metadata": {
    "scrolled": true
   },
   "outputs": [
    {
     "name": "stderr",
     "output_type": "stream",
     "text": [
      "2025-05-10 20:21:54 [INFO] Start auto tuning.\n",
      "2025-05-10 20:21:54 [INFO] Quantize model without tuning!\n",
      "2025-05-10 20:21:54 [INFO] Quantize the model with default configuration without evaluating the model.                To perform the tuning process, please either provide an eval_func or provide an                    eval_dataloader an eval_metric.\n",
      "2025-05-10 20:21:54 [INFO] Adaptor has 5 recipes.\n",
      "2025-05-10 20:21:54 [INFO] 0 recipes specified by user.\n",
      "2025-05-10 20:21:54 [INFO] 3 recipes require future tuning.\n",
      "2025-05-10 20:21:54 [INFO] *** Initialize auto tuning\n",
      "2025-05-10 20:21:54 [INFO] {\n",
      "2025-05-10 20:21:54 [INFO]     'PostTrainingQuantConfig': {\n",
      "2025-05-10 20:21:54 [INFO]         'AccuracyCriterion': {\n",
      "2025-05-10 20:21:54 [INFO]             'criterion': 'relative',\n",
      "2025-05-10 20:21:54 [INFO]             'higher_is_better': True,\n",
      "2025-05-10 20:21:54 [INFO]             'tolerable_loss': 0.01,\n",
      "2025-05-10 20:21:54 [INFO]             'absolute': None,\n",
      "2025-05-10 20:21:54 [INFO]             'keys': <bound method AccuracyCriterion.keys of <neural_compressor.config.AccuracyCriterion object at 0x745f3c344050>>,\n",
      "2025-05-10 20:21:54 [INFO]             'relative': 0.01\n",
      "2025-05-10 20:21:54 [INFO]         },\n",
      "2025-05-10 20:21:54 [INFO]         'approach': 'post_training_dynamic_quant',\n",
      "2025-05-10 20:21:54 [INFO]         'backend': 'default',\n",
      "2025-05-10 20:21:54 [INFO]         'calibration_sampling_size': [\n",
      "2025-05-10 20:21:54 [INFO]             100\n",
      "2025-05-10 20:21:54 [INFO]         ],\n",
      "2025-05-10 20:21:54 [INFO]         'device': 'cpu',\n",
      "2025-05-10 20:21:54 [INFO]         'domain': 'auto',\n",
      "2025-05-10 20:21:54 [INFO]         'example_inputs': 'Not printed here due to large size tensors...',\n",
      "2025-05-10 20:21:54 [INFO]         'excluded_precisions': [\n",
      "2025-05-10 20:21:54 [INFO]         ],\n",
      "2025-05-10 20:21:54 [INFO]         'framework': 'onnxruntime',\n",
      "2025-05-10 20:21:54 [INFO]         'inputs': [\n",
      "2025-05-10 20:21:54 [INFO]         ],\n",
      "2025-05-10 20:21:54 [INFO]         'model_name': '',\n",
      "2025-05-10 20:21:54 [INFO]         'op_name_dict': None,\n",
      "2025-05-10 20:21:54 [INFO]         'op_type_dict': None,\n",
      "2025-05-10 20:21:54 [INFO]         'outputs': [\n",
      "2025-05-10 20:21:54 [INFO]         ],\n",
      "2025-05-10 20:21:54 [INFO]         'quant_format': 'default',\n",
      "2025-05-10 20:21:54 [INFO]         'quant_level': 'auto',\n",
      "2025-05-10 20:21:54 [INFO]         'recipes': {\n",
      "2025-05-10 20:21:54 [INFO]             'smooth_quant': False,\n",
      "2025-05-10 20:21:54 [INFO]             'smooth_quant_args': {\n",
      "2025-05-10 20:21:54 [INFO]             },\n",
      "2025-05-10 20:21:54 [INFO]             'layer_wise_quant': False,\n",
      "2025-05-10 20:21:54 [INFO]             'layer_wise_quant_args': {\n",
      "2025-05-10 20:21:54 [INFO]             },\n",
      "2025-05-10 20:21:54 [INFO]             'fast_bias_correction': False,\n",
      "2025-05-10 20:21:54 [INFO]             'weight_correction': False,\n",
      "2025-05-10 20:21:54 [INFO]             'gemm_to_matmul': True,\n",
      "2025-05-10 20:21:54 [INFO]             'graph_optimization_level': None,\n",
      "2025-05-10 20:21:54 [INFO]             'first_conv_or_matmul_quantization': True,\n",
      "2025-05-10 20:21:54 [INFO]             'last_conv_or_matmul_quantization': True,\n",
      "2025-05-10 20:21:54 [INFO]             'pre_post_process_quantization': True,\n",
      "2025-05-10 20:21:54 [INFO]             'add_qdq_pair_to_weight': False,\n",
      "2025-05-10 20:21:54 [INFO]             'optypes_to_exclude_output_quant': [\n",
      "2025-05-10 20:21:54 [INFO]             ],\n",
      "2025-05-10 20:21:54 [INFO]             'dedicated_qdq_pair': False,\n",
      "2025-05-10 20:21:54 [INFO]             'rtn_args': {\n",
      "2025-05-10 20:21:54 [INFO]             },\n",
      "2025-05-10 20:21:54 [INFO]             'awq_args': {\n",
      "2025-05-10 20:21:54 [INFO]             },\n",
      "2025-05-10 20:21:54 [INFO]             'gptq_args': {\n",
      "2025-05-10 20:21:54 [INFO]             },\n",
      "2025-05-10 20:21:54 [INFO]             'teq_args': {\n",
      "2025-05-10 20:21:54 [INFO]             },\n",
      "2025-05-10 20:21:54 [INFO]             'autoround_args': {\n",
      "2025-05-10 20:21:54 [INFO]             }\n",
      "2025-05-10 20:21:54 [INFO]         },\n",
      "2025-05-10 20:21:54 [INFO]         'reduce_range': None,\n",
      "2025-05-10 20:21:54 [INFO]         'TuningCriterion': {\n",
      "2025-05-10 20:21:54 [INFO]             'max_trials': 100,\n",
      "2025-05-10 20:21:54 [INFO]             'objective': [\n",
      "2025-05-10 20:21:54 [INFO]                 'performance'\n",
      "2025-05-10 20:21:54 [INFO]             ],\n",
      "2025-05-10 20:21:54 [INFO]             'strategy': 'basic',\n",
      "2025-05-10 20:21:54 [INFO]             'strategy_kwargs': None,\n",
      "2025-05-10 20:21:54 [INFO]             'timeout': 0\n",
      "2025-05-10 20:21:54 [INFO]         },\n",
      "2025-05-10 20:21:54 [INFO]         'use_bf16': True,\n",
      "2025-05-10 20:21:54 [INFO]         'ni_workload_name': 'quantization'\n",
      "2025-05-10 20:21:54 [INFO]     }\n",
      "2025-05-10 20:21:54 [INFO] }\n",
      "2025-05-10 20:21:54 [WARNING] [Strategy] Please install `mpi4py` correctly if using distributed tuning; otherwise, ignore this warning.\n",
      "2025-05-10 20:21:54 [WARNING] The model is automatically detected as a non-NLP model. You can use 'domain' argument in 'PostTrainingQuantConfig' to overwrite it\n",
      "2025-05-10 20:21:54 [WARNING] Graph optimization level is automatically set to ENABLE_BASIC. You can use 'recipe' argument in 'PostTrainingQuantConfig'to overwrite it\n",
      "2025-05-10 20:21:55 [INFO] Do not evaluate the baseline and quantize the model with default configuration.\n",
      "2025-05-10 20:21:55 [INFO] Quantize the model with default config.\n",
      "2025-05-10 20:21:57 [INFO] |******Mixed Precision Statistics******|\n",
      "2025-05-10 20:21:57 [INFO] +-----------------------+-------+------+\n",
      "2025-05-10 20:21:57 [INFO] |        Op Type        | Total | INT8 |\n",
      "2025-05-10 20:21:57 [INFO] +-----------------------+-------+------+\n",
      "2025-05-10 20:21:57 [INFO] |         MatMul        |   1   |  1   |\n",
      "2025-05-10 20:21:57 [INFO] |          Conv         |  120  | 120  |\n",
      "2025-05-10 20:21:57 [INFO] | DynamicQuantizeLinear |  121  | 121  |\n",
      "2025-05-10 20:21:57 [INFO] +-----------------------+-------+------+\n",
      "2025-05-10 20:21:57 [INFO] Pass quantize model elapsed time: 1720.28 ms\n",
      "2025-05-10 20:21:57 [INFO] Save tuning history to /home/jovyan/work/nc_workspace/2025-05-10_20-21-52/./history.snapshot.\n",
      "2025-05-10 20:21:57 [INFO] [Strategy] Found the model meets accuracy requirements, ending the tuning process.\n",
      "2025-05-10 20:21:57 [INFO] Specified timeout or max trials is reached! Found a quantized model which meet accuracy goal. Exit.\n",
      "2025-05-10 20:21:57 [INFO] Save deploy yaml to /home/jovyan/work/nc_workspace/2025-05-10_20-21-52/deploy.yaml\n"
     ]
    }
   ],
   "source": [
    "import neural_compressor\n",
    "from neural_compressor import quantization\n",
    "\n",
    "# Load ONNX model into Intel Neural Compressor\n",
    "model_path = \"./mlflowModel1.onnx\"\n",
    "fp32_model = neural_compressor.model.onnx_model.ONNXModel(model_path)\n",
    "\n",
    "# Configure the quantizer\n",
    "config_ptq = neural_compressor.PostTrainingQuantConfig(\n",
    "    approach=\"dynamic\"\n",
    ")\n",
    "\n",
    "# Fit the quantized model\n",
    "q_model = quantization.fit(\n",
    "    model=fp32_model, \n",
    "    conf=config_ptq\n",
    ")\n",
    "\n",
    "# Save quantized model\n",
    "q_model.save_model_to_file(\"./mlflowModel1_quantized_dynamic.onnx\")"
   ]
  },
  {
   "cell_type": "code",
   "execution_count": 32,
   "id": "30f0cb56-6ef9-40bb-a00c-b98219bed417",
   "metadata": {},
   "outputs": [
    {
     "name": "stdout",
     "output_type": "stream",
     "text": [
      "Model Size on Disk: 7.86 MB\n"
     ]
    }
   ],
   "source": [
    "onnx_model_path = \"./mlflowModel1_quantized_dynamic.onnx\"\n",
    "model_size = os.path.getsize(onnx_model_path) \n",
    "print(f\"Model Size on Disk: {model_size/ (1e6) :.2f} MB\")"
   ]
  },
  {
   "cell_type": "code",
   "execution_count": 33,
   "id": "a0e6fc12-76b4-45ad-a1b3-5311645bf3e3",
   "metadata": {},
   "outputs": [
    {
     "name": "stdout",
     "output_type": "stream",
     "text": [
      "Model Size on Disk: 7.86 MB\n",
      "Execution provider: ['CPUExecutionProvider']\n",
      "ONNX Model Accuracy: 76.64%\n",
      "Inference Latency (single sample, median): 45.91 ms\n",
      "Inference Latency (single sample, 95th percentile): 48.47 ms\n",
      "Inference Latency (single sample, 99th percentile): 51.35 ms\n",
      "Inference Throughput (single sample): 21.60 FPS\n",
      "Batch Throughput: 24.92 FPS\n"
     ]
    }
   ],
   "source": [
    "onnx_model_path = \"./mlflowModel1_quantized_dynamic.onnx\"\n",
    "ort_session = ort.InferenceSession(onnx_model_path, providers=['CPUExecutionProvider'])\n",
    "benchmark_session(ort_session)"
   ]
  },
  {
   "cell_type": "code",
   "execution_count": 49,
   "id": "7a33b8e3-fa55-4a0b-a1b7-ac5baf688198",
   "metadata": {},
   "outputs": [],
   "source": [
    "\n",
    "import neural_compressor\n",
    "from neural_compressor import quantization\n",
    "from torchvision import datasets, transforms\n",
    "\n",
    "image_size = 224\n",
    "test_transform = transforms.Compose([\n",
    "            transforms.Resize((image_size, image_size)),\n",
    "            transforms.Grayscale(num_output_channels=3),\n",
    "            transforms.ToTensor(),\n",
    "            transforms.Normalize([0.5]*3, [0.5]*3)\n",
    "        ])\n",
    "\n",
    "# Load dataset\n",
    "dataset_test = Subset(full_dataset, list(range(sixty_percent, next_percent)))\n",
    "test_loader = DataLoader(dataset_test, batch_size=16, shuffle=False, num_workers=4)\n",
    "eval_dataloader = neural_compressor.data.DataLoader(framework='onnxruntime', dataset=dataset_test)"
   ]
  },
  {
   "cell_type": "code",
   "execution_count": 53,
   "id": "931532da-0ae2-4248-9168-1d1cfe5ed060",
   "metadata": {
    "scrolled": true
   },
   "outputs": [
    {
     "name": "stderr",
     "output_type": "stream",
     "text": [
      "2025-05-10 20:38:43 [INFO] Start conservative tuning.\n",
      "2025-05-10 20:38:43 [INFO] Execute the tuning process due to detect the evaluation function.\n",
      "2025-05-10 20:38:43 [INFO] Adaptor has 5 recipes.\n",
      "2025-05-10 20:38:43 [INFO] 0 recipes specified by user.\n",
      "2025-05-10 20:38:43 [INFO] 3 recipes require future tuning.\n",
      "2025-05-10 20:38:43 [INFO] *** Initialize conservative tuning\n",
      "2025-05-10 20:38:43 [INFO] {\n",
      "2025-05-10 20:38:43 [INFO]     'PostTrainingQuantConfig': {\n",
      "2025-05-10 20:38:43 [INFO]         'AccuracyCriterion': {\n",
      "2025-05-10 20:38:43 [INFO]             'criterion': 'absolute',\n",
      "2025-05-10 20:38:43 [INFO]             'higher_is_better': True,\n",
      "2025-05-10 20:38:43 [INFO]             'tolerable_loss': 0.1,\n",
      "2025-05-10 20:38:43 [INFO]             'absolute': 0.1,\n",
      "2025-05-10 20:38:43 [INFO]             'keys': <bound method AccuracyCriterion.keys of <neural_compressor.config.AccuracyCriterion object at 0x745f7cb1ffb0>>,\n",
      "2025-05-10 20:38:43 [INFO]             'relative': None\n",
      "2025-05-10 20:38:43 [INFO]         },\n",
      "2025-05-10 20:38:43 [INFO]         'approach': 'post_training_static_quant',\n",
      "2025-05-10 20:38:43 [INFO]         'backend': 'default',\n",
      "2025-05-10 20:38:43 [INFO]         'calibration_sampling_size': [\n",
      "2025-05-10 20:38:43 [INFO]             128\n",
      "2025-05-10 20:38:43 [INFO]         ],\n",
      "2025-05-10 20:38:43 [INFO]         'device': 'cpu',\n",
      "2025-05-10 20:38:43 [INFO]         'domain': 'auto',\n",
      "2025-05-10 20:38:43 [INFO]         'example_inputs': 'Not printed here due to large size tensors...',\n",
      "2025-05-10 20:38:43 [INFO]         'excluded_precisions': [\n",
      "2025-05-10 20:38:43 [INFO]         ],\n",
      "2025-05-10 20:38:43 [INFO]         'framework': 'onnxruntime',\n",
      "2025-05-10 20:38:43 [INFO]         'inputs': [\n",
      "2025-05-10 20:38:43 [INFO]         ],\n",
      "2025-05-10 20:38:43 [INFO]         'model_name': '',\n",
      "2025-05-10 20:38:43 [INFO]         'op_name_dict': None,\n",
      "2025-05-10 20:38:43 [INFO]         'op_type_dict': None,\n",
      "2025-05-10 20:38:43 [INFO]         'outputs': [\n",
      "2025-05-10 20:38:43 [INFO]         ],\n",
      "2025-05-10 20:38:43 [INFO]         'quant_format': 'QOperator',\n",
      "2025-05-10 20:38:43 [INFO]         'quant_level': 0,\n",
      "2025-05-10 20:38:43 [INFO]         'recipes': {\n",
      "2025-05-10 20:38:43 [INFO]             'smooth_quant': False,\n",
      "2025-05-10 20:38:43 [INFO]             'smooth_quant_args': {\n",
      "2025-05-10 20:38:43 [INFO]             },\n",
      "2025-05-10 20:38:43 [INFO]             'layer_wise_quant': False,\n",
      "2025-05-10 20:38:43 [INFO]             'layer_wise_quant_args': {\n",
      "2025-05-10 20:38:43 [INFO]             },\n",
      "2025-05-10 20:38:43 [INFO]             'fast_bias_correction': False,\n",
      "2025-05-10 20:38:43 [INFO]             'weight_correction': False,\n",
      "2025-05-10 20:38:43 [INFO]             'gemm_to_matmul': True,\n",
      "2025-05-10 20:38:43 [INFO]             'graph_optimization_level': 'ENABLE_EXTENDED',\n",
      "2025-05-10 20:38:43 [INFO]             'first_conv_or_matmul_quantization': True,\n",
      "2025-05-10 20:38:43 [INFO]             'last_conv_or_matmul_quantization': True,\n",
      "2025-05-10 20:38:43 [INFO]             'pre_post_process_quantization': True,\n",
      "2025-05-10 20:38:43 [INFO]             'add_qdq_pair_to_weight': False,\n",
      "2025-05-10 20:38:43 [INFO]             'optypes_to_exclude_output_quant': [\n",
      "2025-05-10 20:38:43 [INFO]             ],\n",
      "2025-05-10 20:38:43 [INFO]             'dedicated_qdq_pair': False,\n",
      "2025-05-10 20:38:43 [INFO]             'rtn_args': {\n",
      "2025-05-10 20:38:43 [INFO]             },\n",
      "2025-05-10 20:38:43 [INFO]             'awq_args': {\n",
      "2025-05-10 20:38:43 [INFO]             },\n",
      "2025-05-10 20:38:43 [INFO]             'gptq_args': {\n",
      "2025-05-10 20:38:43 [INFO]             },\n",
      "2025-05-10 20:38:43 [INFO]             'teq_args': {\n",
      "2025-05-10 20:38:43 [INFO]             },\n",
      "2025-05-10 20:38:43 [INFO]             'autoround_args': {\n",
      "2025-05-10 20:38:43 [INFO]             }\n",
      "2025-05-10 20:38:43 [INFO]         },\n",
      "2025-05-10 20:38:43 [INFO]         'reduce_range': None,\n",
      "2025-05-10 20:38:43 [INFO]         'TuningCriterion': {\n",
      "2025-05-10 20:38:43 [INFO]             'max_trials': 100,\n",
      "2025-05-10 20:38:43 [INFO]             'objective': [\n",
      "2025-05-10 20:38:43 [INFO]                 'performance'\n",
      "2025-05-10 20:38:43 [INFO]             ],\n",
      "2025-05-10 20:38:43 [INFO]             'strategy': 'basic',\n",
      "2025-05-10 20:38:43 [INFO]             'strategy_kwargs': None,\n",
      "2025-05-10 20:38:43 [INFO]             'timeout': 0\n",
      "2025-05-10 20:38:43 [INFO]         },\n",
      "2025-05-10 20:38:43 [INFO]         'use_bf16': True,\n",
      "2025-05-10 20:38:43 [INFO]         'ni_workload_name': 'quantization'\n",
      "2025-05-10 20:38:43 [INFO]     }\n",
      "2025-05-10 20:38:43 [INFO] }\n",
      "2025-05-10 20:38:43 [WARNING] [Strategy] Please install `mpi4py` correctly if using distributed tuning; otherwise, ignore this warning.\n",
      "2025-05-10 20:38:44 [INFO] Get FP32 model baseline.\n",
      "2025-05-10 20:38:50 [INFO] Save tuning history to /home/jovyan/work/nc_workspace/2025-05-10_20-21-52/./history.snapshot.\n",
      "2025-05-10 20:38:50 [INFO] FP32 baseline is: [Accuracy: 0.7796, Duration (seconds): 6.7121]\n",
      "2025-05-10 20:38:50 [INFO] *** Try to convert op into lower precision to improve performance.\n",
      "2025-05-10 20:38:50 [INFO] *** Start to convert op into int8.\n",
      "2025-05-10 20:38:50 [INFO] *** Try to convert all conv ops into int8.\n",
      "2025-05-10 20:39:12 [INFO] |********Mixed Precision Statistics*******|\n",
      "2025-05-10 20:39:12 [INFO] +-------------------+-------+------+------+\n",
      "2025-05-10 20:39:12 [INFO] |      Op Type      | Total | INT8 | FP32 |\n",
      "2025-05-10 20:39:12 [INFO] +-------------------+-------+------+------+\n",
      "2025-05-10 20:39:12 [INFO] |       MatMul      |   1   |  0   |  1   |\n",
      "2025-05-10 20:39:12 [INFO] |     FusedConv     |   59  |  0   |  59  |\n",
      "2025-05-10 20:39:12 [INFO] |        Conv       |   61  |  61  |  0   |\n",
      "2025-05-10 20:39:12 [INFO] |        Relu       |   62  |  0   |  62  |\n",
      "2025-05-10 20:39:12 [INFO] |      MaxPool      |   1   |  0   |  1   |\n",
      "2025-05-10 20:39:12 [INFO] | GlobalAveragePool |   1   |  0   |  1   |\n",
      "2025-05-10 20:39:12 [INFO] |        Add        |   1   |  0   |  1   |\n",
      "2025-05-10 20:39:12 [INFO] |       Concat      |   62  |  0   |  62  |\n",
      "2025-05-10 20:39:12 [INFO] |    AveragePool    |   3   |  0   |  3   |\n",
      "2025-05-10 20:39:12 [INFO] |      Flatten      |   1   |  0   |  1   |\n",
      "2025-05-10 20:39:12 [INFO] |   QuantizeLinear  |   61  |  61  |  0   |\n",
      "2025-05-10 20:39:12 [INFO] |  DequantizeLinear |   61  |  61  |  0   |\n",
      "2025-05-10 20:39:12 [INFO] +-------------------+-------+------+------+\n",
      "2025-05-10 20:39:12 [INFO] Pass quantize model elapsed time: 21678.19 ms\n",
      "2025-05-10 20:39:19 [INFO] Tune 1 result is: [Accuracy (int8|fp32): 0.7796|0.7796, Duration (seconds) (int8|fp32): 6.5202|6.7121], Best tune result is: [Accuracy: 0.7796, Duration (seconds): 6.5202]\n",
      "2025-05-10 20:39:19 [INFO] |**********************Tune Result Statistics**********************|\n",
      "2025-05-10 20:39:19 [INFO] +--------------------+----------+---------------+------------------+\n",
      "2025-05-10 20:39:19 [INFO] |     Info Type      | Baseline | Tune 1 result | Best tune result |\n",
      "2025-05-10 20:39:19 [INFO] +--------------------+----------+---------------+------------------+\n",
      "2025-05-10 20:39:19 [INFO] |      Accuracy      | 0.7796   |    0.7796     |     0.7796       |\n",
      "2025-05-10 20:39:19 [INFO] | Duration (seconds) | 6.7121   |    6.5202     |     6.5202       |\n",
      "2025-05-10 20:39:19 [INFO] +--------------------+----------+---------------+------------------+\n",
      "2025-05-10 20:39:19 [INFO] [Strategy] Found a model that meets the accuracy requirements.\n",
      "2025-05-10 20:39:19 [INFO] Save tuning history to /home/jovyan/work/nc_workspace/2025-05-10_20-21-52/./history.snapshot.\n",
      "2025-05-10 20:39:19 [INFO] *** Do not stop the tuning process, re-quantize the ops.\n",
      "2025-05-10 20:39:19 [INFO] *** Convert all conv ops to int8 and accuracy still meet the requirements\n",
      "2025-05-10 20:39:19 [INFO] ***Current result dict_items([('conv', 'int8'), ('matmul', None), ('bmm', None), ('linear', None)])\n",
      "2025-05-10 20:39:19 [INFO] *** Try to convert all matmul ops into int8.\n",
      "2025-05-10 20:39:41 [INFO] |********Mixed Precision Statistics*******|\n",
      "2025-05-10 20:39:41 [INFO] +-------------------+-------+------+------+\n",
      "2025-05-10 20:39:41 [INFO] |      Op Type      | Total | INT8 | FP32 |\n",
      "2025-05-10 20:39:41 [INFO] +-------------------+-------+------+------+\n",
      "2025-05-10 20:39:41 [INFO] |       MatMul      |   1   |  1   |  0   |\n",
      "2025-05-10 20:39:41 [INFO] |     FusedConv     |   59  |  0   |  59  |\n",
      "2025-05-10 20:39:41 [INFO] |        Conv       |   61  |  61  |  0   |\n",
      "2025-05-10 20:39:41 [INFO] |        Relu       |   62  |  0   |  62  |\n",
      "2025-05-10 20:39:41 [INFO] |      MaxPool      |   1   |  0   |  1   |\n",
      "2025-05-10 20:39:41 [INFO] | GlobalAveragePool |   1   |  0   |  1   |\n",
      "2025-05-10 20:39:41 [INFO] |        Add        |   1   |  0   |  1   |\n",
      "2025-05-10 20:39:41 [INFO] |       Concat      |   62  |  0   |  62  |\n",
      "2025-05-10 20:39:41 [INFO] |    AveragePool    |   3   |  0   |  3   |\n",
      "2025-05-10 20:39:41 [INFO] |      Flatten      |   1   |  0   |  1   |\n",
      "2025-05-10 20:39:41 [INFO] |   QuantizeLinear  |   62  |  62  |  0   |\n",
      "2025-05-10 20:39:41 [INFO] |  DequantizeLinear |   62  |  62  |  0   |\n",
      "2025-05-10 20:39:41 [INFO] +-------------------+-------+------+------+\n",
      "2025-05-10 20:39:41 [INFO] Pass quantize model elapsed time: 22669.45 ms\n",
      "2025-05-10 20:39:48 [INFO] Tune 2 result is: [Accuracy (int8|fp32): 0.7796|0.7796, Duration (seconds) (int8|fp32): 6.5777|6.7121], Best tune result is: [Accuracy: 0.7796, Duration (seconds): 6.5777]\n",
      "2025-05-10 20:39:48 [INFO] |**********************Tune Result Statistics**********************|\n",
      "2025-05-10 20:39:48 [INFO] +--------------------+----------+---------------+------------------+\n",
      "2025-05-10 20:39:48 [INFO] |     Info Type      | Baseline | Tune 2 result | Best tune result |\n",
      "2025-05-10 20:39:48 [INFO] +--------------------+----------+---------------+------------------+\n",
      "2025-05-10 20:39:48 [INFO] |      Accuracy      | 0.7796   |    0.7796     |     0.7796       |\n",
      "2025-05-10 20:39:48 [INFO] | Duration (seconds) | 6.7121   |    6.5777     |     6.5777       |\n",
      "2025-05-10 20:39:48 [INFO] +--------------------+----------+---------------+------------------+\n",
      "2025-05-10 20:39:48 [INFO] [Strategy] Found a model that meets the accuracy requirements.\n",
      "2025-05-10 20:39:48 [INFO] Save tuning history to /home/jovyan/work/nc_workspace/2025-05-10_20-21-52/./history.snapshot.\n",
      "2025-05-10 20:39:48 [INFO] *** Do not stop the tuning process, re-quantize the ops.\n",
      "2025-05-10 20:39:48 [INFO] *** Convert all matmul ops to int8 and accuracy still meet the requirements\n",
      "2025-05-10 20:39:48 [INFO] ***Current result dict_items([('conv', 'int8'), ('matmul', 'int8'), ('bmm', None), ('linear', None)])\n",
      "2025-05-10 20:39:48 [INFO] *** Ending tuning process due to no quantifiable op left.\n",
      "2025-05-10 20:39:48 [INFO] Specified timeout or max trials is reached! Found a quantized model which meet accuracy goal. Exit.\n",
      "2025-05-10 20:39:48 [INFO] Save deploy yaml to /home/jovyan/work/nc_workspace/2025-05-10_20-21-52/deploy.yaml\n"
     ]
    }
   ],
   "source": [
    "import onnxruntime as ort\n",
    "from neural_compressor.model.onnx_model import ONNXModel\n",
    "\n",
    "onnx_model_path = \"./mlflowModel1.onnx\"\n",
    "fp32_session = ort.InferenceSession(onnx_model_path, providers=['CPUExecutionProvider'])\n",
    "fp32_model = ONNXModel(onnx_model_path)  # still needed for INC's internal use\n",
    "\n",
    "# Configure the quantizer\n",
    "config_ptq = neural_compressor.PostTrainingQuantConfig(\n",
    "    accuracy_criterion = neural_compressor.config.AccuracyCriterion(\n",
    "        criterion=\"absolute\",  \n",
    "        tolerable_loss=0.1  # We will tolerate up to 0.01 less accuracy in the quantized model\n",
    "    ),\n",
    "    approach=\"static\", \n",
    "    device='cpu', \n",
    "    quant_level=0,  # 0 is a less aggressive quantization level\n",
    "    quant_format=\"QOperator\", \n",
    "    recipes={\"graph_optimization_level\": \"ENABLE_EXTENDED\"}, \n",
    "    calibration_sampling_size=128\n",
    ")\n",
    "\n",
    "def eval_func(_):\n",
    "    correct = 0\n",
    "    total = 0\n",
    "    threshold = 0.5\n",
    "\n",
    "    for images, labels in test_loader:\n",
    "        images_np = images.numpy()\n",
    "        labels_np = labels.numpy().astype(bool)\n",
    "\n",
    "        outputs = fp32_session.run(None, {fp32_session.get_inputs()[0].name: images_np})[0]\n",
    "        preds = (1 / (1 + np.exp(-outputs))) > threshold\n",
    "\n",
    "        correct += np.sum(preds == labels_np)\n",
    "        total += labels_np.size\n",
    "\n",
    "    return correct / total\n",
    "\n",
    "# Find the best quantized model meeting the accuracy criterion\n",
    "q_model = quantization.fit(\n",
    "    model=fp32_model, \n",
    "    conf=config_ptq, \n",
    "    calib_dataloader=eval_dataloader,\n",
    "    # eval_dataloader=eval_dataloader, \n",
    "    eval_func=eval_func\n",
    ")\n",
    "\n",
    "# Save quantized model\n",
    "q_model.save_model_to_file(\"./mlflowModel1_quantized_conservative.onnx\")"
   ]
  },
  {
   "cell_type": "code",
   "execution_count": 54,
   "id": "97f552a9-2c9b-4217-af6a-de8f7f2b5aa0",
   "metadata": {},
   "outputs": [
    {
     "name": "stdout",
     "output_type": "stream",
     "text": [
      "Model Size on Disk: 19.88 MB\n",
      "Execution provider: ['CPUExecutionProvider']\n",
      "ONNX Model Accuracy: 78.29%\n",
      "Inference Latency (single sample, median): 35.38 ms\n",
      "Inference Latency (single sample, 95th percentile): 39.80 ms\n",
      "Inference Latency (single sample, 99th percentile): 48.78 ms\n",
      "Inference Throughput (single sample): 27.75 FPS\n",
      "Batch Throughput: 35.54 FPS\n"
     ]
    }
   ],
   "source": [
    "onnx_model_path = \"./mlflowModel1_quantized_conservative.onnx\"\n",
    "ort_session = ort.InferenceSession(onnx_model_path, providers=['CPUExecutionProvider'])\n",
    "benchmark_session(ort_session)"
   ]
  },
  {
   "cell_type": "code",
   "execution_count": 55,
   "id": "f0dfc2ab-116c-4f6c-aa7b-c396cb34c3a0",
   "metadata": {},
   "outputs": [
    {
     "name": "stdout",
     "output_type": "stream",
     "text": [
      "Model Size on Disk: 28.28 MB\n",
      "Execution provider: ['CPUExecutionProvider']\n",
      "ONNX Model Accuracy: 77.96%\n",
      "Inference Latency (single sample, median): 27.09 ms\n",
      "Inference Latency (single sample, 95th percentile): 29.74 ms\n",
      "Inference Latency (single sample, 99th percentile): 29.90 ms\n",
      "Inference Throughput (single sample): 36.42 FPS\n",
      "Batch Throughput: 60.15 FPS\n"
     ]
    }
   ],
   "source": [
    "onnx_model_path = \"./mlflowModel1.onnx\"\n",
    "ort_session = ort.InferenceSession(onnx_model_path, providers=['CPUExecutionProvider'])\n",
    "benchmark_session(ort_session)     "
   ]
  },
  {
   "cell_type": "code",
   "execution_count": 56,
   "id": "76da12e5-4ca1-47f1-81f3-f5acd48f3092",
   "metadata": {},
   "outputs": [
    {
     "name": "stdout",
     "output_type": "stream",
     "text": [
      "Model Size on Disk: 28.28 MB\n",
      "Execution provider: ['CUDAExecutionProvider', 'CPUExecutionProvider']\n"
     ]
    },
    {
     "name": "stderr",
     "output_type": "stream",
     "text": [
      "\u001b[0;93m2025-05-10 20:41:18.488273433 [W:onnxruntime:, transformer_memcpy.cc:83 ApplyImpl] 6 Memcpy nodes are added to the graph main_graph for CUDAExecutionProvider. It might have negative impact on performance (including unable to run CUDA graph). Set session_options.log_severity_level=1 to see the detail logs before this message.\u001b[m\n",
      "\u001b[0;93m2025-05-10 20:41:18.493223682 [W:onnxruntime:, session_state.cc:1280 VerifyEachNodeIsAssignedToAnEp] Some nodes were not assigned to the preferred execution providers which may or may not have an negative impact on performance. e.g. ORT explicitly assigns shape related ops to CPU to improve perf.\u001b[m\n",
      "\u001b[0;93m2025-05-10 20:41:18.493236297 [W:onnxruntime:, session_state.cc:1282 VerifyEachNodeIsAssignedToAnEp] Rerunning with verbose output on a non-minimal build will show node assignments.\u001b[m\n"
     ]
    },
    {
     "name": "stdout",
     "output_type": "stream",
     "text": [
      "ONNX Model Accuracy: 77.96%\n",
      "Inference Latency (single sample, median): 10.15 ms\n",
      "Inference Latency (single sample, 95th percentile): 12.54 ms\n",
      "Inference Latency (single sample, 99th percentile): 14.51 ms\n",
      "Inference Throughput (single sample): 95.33 FPS\n",
      "Batch Throughput: 376.29 FPS\n"
     ]
    },
    {
     "data": {
      "text/plain": [
       "'GPU'"
      ]
     },
     "execution_count": 56,
     "metadata": {},
     "output_type": "execute_result"
    }
   ],
   "source": [
    "onnx_model_path = \"./mlflowModel1.onnx\"\n",
    "ort_session = ort.InferenceSession(onnx_model_path, providers=['CUDAExecutionProvider'])\n",
    "benchmark_session(ort_session)\n",
    "ort.get_device()  "
   ]
  },
  {
   "cell_type": "code",
   "execution_count": null,
   "id": "e7dc2a3c-bf7d-4108-9d08-0dd5b6a5ad49",
   "metadata": {},
   "outputs": [
    {
     "name": "stdout",
     "output_type": "stream",
     "text": [
      "Model Size on Disk: 28.28 MB\n",
      "Execution provider: ['CPUExecutionProvider']\n"
     ]
    },
    {
     "name": "stderr",
     "output_type": "stream",
     "text": [
      "\u001b[0;93m2025-05-10 20:46:59.718799559 [W:onnxruntime:Default, onnxruntime_pybind_state.cc:880 CreateExecutionProviderInstance] Failed to create TensorrtExecutionProvider. Please reference https://onnxruntime.ai/docs/execution-providers/TensorRT-ExecutionProvider.html#requirements to ensure all dependencies are met.\u001b[m\n"
     ]
    }
   ],
   "source": [
    "#P100 GPU, TesnorRT does not work\n",
    "onnx_model_path = \"./mlflowModel1.onnx\"\n",
    "ort_session = ort.InferenceSession(onnx_model_path, providers=['TensorrtExecutionProvider'])\n",
    "benchmark_session(ort_session)\n",
    "ort.get_device()  "
   ]
  },
  {
   "cell_type": "code",
   "execution_count": null,
   "id": "74f7a3ab-96bc-4bf3-83d2-b15221c35b39",
   "metadata": {},
   "outputs": [],
   "source": []
  }
 ],
 "metadata": {
  "kernelspec": {
   "display_name": "Python 3 (ipykernel)",
   "language": "python",
   "name": "python3"
  },
  "language_info": {
   "codemirror_mode": {
    "name": "ipython",
    "version": 3
   },
   "file_extension": ".py",
   "mimetype": "text/x-python",
   "name": "python",
   "nbconvert_exporter": "python",
   "pygments_lexer": "ipython3",
   "version": "3.12.8"
  }
 },
 "nbformat": 4,
 "nbformat_minor": 5
}
