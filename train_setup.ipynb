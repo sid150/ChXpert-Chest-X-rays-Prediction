{
 "cells": [
  {
   "cell_type": "code",
   "execution_count": null,
   "id": "6fdfefbd",
   "metadata": {},
   "outputs": [],
   "source": [
    "from chi import server, context, lease\n",
    "import os\n",
    "\n",
    "context.version = \"1.0\" \n",
    "context.choose_project()\n",
    "context.choose_site(default=\"CHI@UC\")"
   ]
  },
  {
   "cell_type": "code",
   "execution_count": null,
   "id": "921aee2f",
   "metadata": {},
   "outputs": [],
   "source": [
    "l = lease.get_lease(f\"node_project29_gpu_p100\") \n",
    "l.show()"
   ]
  },
  {
   "cell_type": "code",
   "execution_count": null,
   "id": "85b1e524",
   "metadata": {},
   "outputs": [],
   "source": [
    "username = os.getenv('USER') # all exp resources will have this prefix\n",
    "s = server.Server(\n",
    "    f\"node_project29_gpu_p100\", \n",
    "    reservation_id=l.node_reservations[0][\"id\"],\n",
    "    image_name=\"CC-Ubuntu24.04-CUDA\"\n",
    ")\n",
    "s.submit(idempotent=True)"
   ]
  },
  {
   "cell_type": "code",
   "execution_count": null,
   "id": "471df620",
   "metadata": {},
   "outputs": [],
   "source": [
    "s.associate_floating_ip()"
   ]
  },
  {
   "cell_type": "code",
   "execution_count": null,
   "id": "13e5c666",
   "metadata": {},
   "outputs": [],
   "source": [
    "s.refresh()\n",
    "s.check_connectivity()"
   ]
  },
  {
   "cell_type": "code",
   "execution_count": null,
   "id": "69fc781e",
   "metadata": {},
   "outputs": [],
   "source": [
    "s.refresh()\n",
    "s.show(type=\"widget\")"
   ]
  },
  {
   "cell_type": "code",
   "execution_count": null,
   "id": "0a2ec44c",
   "metadata": {},
   "outputs": [],
   "source": [
    "s.execute(\"git clone https://github.com/sid150/ChXpert-Chest-X-rays-Prediction.git\")"
   ]
  },
  {
   "cell_type": "code",
   "execution_count": null,
   "id": "031d17e4",
   "metadata": {},
   "outputs": [],
   "source": [
    "s.execute(\"curl -sSL https://get.docker.com/ | sudo sh\")\n",
    "s.execute(\"sudo groupadd -f docker; sudo usermod -aG docker $USER\")"
   ]
  },
  {
   "cell_type": "code",
   "execution_count": null,
   "id": "d1aed502",
   "metadata": {},
   "outputs": [],
   "source": [
    "s.execute(\"curl -fsSL https://nvidia.github.io/libnvidia-container/gpgkey | sudo gpg --dearmor -o /usr/share/keyrings/nvidia-container-toolkit-keyring.gpg \\\n",
    "  && curl -s -L https://nvidia.github.io/libnvidia-container/stable/deb/nvidia-container-toolkit.list | \\\n",
    "    sed 's#deb https://#deb [signed-by=/usr/share/keyrings/nvidia-container-toolkit-keyring.gpg] https://#g' | \\\n",
    "    sudo tee /etc/apt/sources.list.d/nvidia-container-toolkit.list\")\n",
    "s.execute(\"sudo apt update\")\n",
    "s.execute(\"sudo apt-get install -y nvidia-container-toolkit\")\n",
    "s.execute(\"sudo nvidia-ctk runtime configure --runtime=docker\")\n",
    "# for https://github.com/NVIDIA/nvidia-container-toolkit/issues/48\n",
    "s.execute(\"sudo jq 'if has(\\\"exec-opts\\\") then . else . + {\\\"exec-opts\\\": [\\\"native.cgroupdriver=cgroupfs\\\"]} end' /etc/docker/daemon.json | sudo tee /etc/docker/daemon.json.tmp > /dev/null && sudo mv /etc/docker/daemon.json.tmp /etc/docker/daemon.json\")\n",
    "s.execute(\"sudo systemctl restart docker\")"
   ]
  },
  {
   "cell_type": "code",
   "execution_count": null,
   "id": "a0202193",
   "metadata": {},
   "outputs": [],
   "source": [
    "s.execute(\"sudo apt update\")\n",
    "s.execute(\"sudo apt -y install nvtop\")"
   ]
  },
  {
   "cell_type": "markdown",
   "id": "103e272b",
   "metadata": {},
   "source": [
    "ssh into node and run these\n",
    "\n",
    "\n",
    "curl https://rclone.org/install.sh | sudo bash\n",
    "\n",
    "\n",
    "\n",
    "sudo sed -i '/^#user_allow_other/s/^#//' /etc/fuse.conf\n",
    "\n",
    "\n",
    "\n",
    "mkdir -p ~/.config/rclone\n",
    "nano  ~/.config/rclone/rclone.conf\n",
    "\n",
    "\n",
    "\n",
    "\n",
    "[chi_tacc]\n",
    "type = swift\n",
    "user_id = 1d516491f6c35cc485ec339f5bd04b3b60ad982213c9804cdab35e13dd10f04b\n",
    "application_credential_id = db008fab60234a0081d830d48694b064\n",
    "application_credential_secret = KgMwl26eF2zr6N0PMWDhfBm1FOTB6k-DNACTPOrb5EXxXPEYKu1EpH9sZhfEJDX96QUNOVHV5-Dbv9zZgXR4Lw\n",
    "auth = https://chi.tacc.chameleoncloud.org:5000/v3\n",
    "region = CHI@TACC\n",
    "\n",
    "\n",
    "\n",
    "\n",
    "rclone lsd chi_tacc:\n",
    "\n",
    "\n",
    "\n",
    "\n",
    "sudo mkdir -p /mnt/object\n",
    "sudo chown -R cc /mnt/object\n",
    "sudo chgrp -R cc /mnt/object\n",
    "\n",
    "\n",
    "replace object name\n",
    "\n",
    "\n",
    "rclone mount chi_tacc:object-persist-project29 /mnt/object --read-only --allow-other --vfs-cache-mode=full   --dir-cache-time=72h --swift-fetch-until-empty-page --daemon\n",
    "\n",
    "ls /mnt/object"
   ]
  },
  {
   "cell_type": "markdown",
   "id": "79da2b12",
   "metadata": {},
   "source": [
    "### run in persisitent cpu instance\n",
    "\n",
    "HOST_IP=$(curl --silent http://169.254.169.254/latest/meta-data/public-ipv4 ) MINIO_ROOT_PASSWORD=myminioadmin123 AWS_ACCESS_KEY_ID=myminioadmin AWS_SECRET_ACCESS_KEY=myminioadmin123 POSTGRES_USER=mlflowuser POSTGRES_PASSWORD=mlflowpass POSTGRES_DB=mlflowdb docker compose -f docker-storage.yaml up -d"
   ]
  },
  {
   "cell_type": "markdown",
   "id": "8a08e6a1",
   "metadata": {},
   "source": [
    "### run in bare metal gpu instance\n",
    "\n",
    "HOST_IP=$(curl --silent http://169.254.169.254/latest/meta-data/public-ipv4 ) MINIO_ROOT_USER=myminioadmin MINIO_ROOT_PASSWORD=myminioadmin123 AWS_ACCESS_KEY_ID=myminioadmin AWS_SECRET_ACCESS_KEY=myminioadmin123 POSTGRES_USER=mlflowuser POSTGRES_PASSWORD=mlflowpass POSTGRES_DB=mlflowdb docker compose -f  ChXpert-Chest-X-rays-Prediction/docker/docker-compose-ray-cuda-req.yaml up -d"
   ]
  },
  {
   "cell_type": "markdown",
   "id": "fc9f7937",
   "metadata": {},
   "source": [
    "``` bash\n",
    "# run on node-mltrain\n",
    "docker build -t jupyter-ray -f ChXpert-Chest-X-rays-Prediction/docker/Dockerfile.jupyter-ray .\n",
    "```\n",
    "\n",
    "Run\n",
    "\n",
    "``` bash\n",
    "# run on node-mltrain\n",
    "HOST_IP=$(curl --silent http://169.254.169.254/latest/meta-data/public-ipv4)\n",
    "\n",
    "docker run -d --rm -p 8888:8888 \\\n",
    "  -v ~/ChXpert-Chest-X-rays-Prediction/:/home/jovyan/work/ \\\n",
    "  --mount type=bind,source=/mnt/object,target=/mnt/data \\\n",
    "  -e RAY_ADDRESS=http://${HOST_IP}:8265/ \\\n",
    "  --name jupyter \\\n",
    "  jupyter-ray\n",
    "```\n",
    "\n",
    "Then, run\n",
    "\n",
    "``` bash\n",
    "# run on node-mltrain\n",
    "docker logs jupyter\n",
    "```"
   ]
  },
  {
   "cell_type": "markdown",
   "id": "5232d1fd",
   "metadata": {},
   "source": [
    "HOST_IP=$(curl --silent http://169.254.169.254/latest/meta-data/public-ipv4 ) MINIO_ROOT_USER=myminioadmin MINIO_ROOT_PASSWORD=myminioadmin123 AWS_ACCESS_KEY_ID=myminioadmin AWS_SECRET_ACCESS_KEY=myminioadmin123 POSTGRES_USER=mlflowuser POSTGRES_PASSWORD=mlflowpass POSTGRES_DB=mlflowdb docker compose -f  ChXpert-Chest-X-rays-Prediction/docker/docker-compose-ray-cuda-req.yaml down"
   ]
  },
  {
   "cell_type": "code",
   "execution_count": null,
   "id": "f5fbe022",
   "metadata": {},
   "outputs": [],
   "source": []
  },
  {
   "cell_type": "markdown",
   "id": "1708aba8",
   "metadata": {},
   "source": [
    "## run in bare metal instance local \n",
    "\n",
    "HOST_IP=$(curl --silent http://169.254.169.254/latest/meta-data/public-ipv4 ) MINIO_ROOT_USER=myminioadmin MINIO_ROOT_PASSWORD=myminioadmin123 AWS_ACCESS_KEY_ID=myminioadmin AWS_SECRET_ACCESS_KEY=myminioadmin123 POSTGRES_USER=mlflowuser POSTGRES_PASSWORD=mlflowpass POSTGRES_DB=mlflowdb docker compose -f  ChXpert-Chest-X-rays-Prediction/docker/docker-compose-ray-cuda-local.yaml up -d"
   ]
  },
  {
   "cell_type": "markdown",
   "id": "cd28d477",
   "metadata": {},
   "source": [
    "HOST_IP=$(curl --silent http://169.254.169.254/latest/meta-data/public-ipv4 ) MINIO_ROOT_USER=myminioadmin MINIO_ROOT_PASSWORD=myminioadmin123 AWS_ACCESS_KEY_ID=myminioadmin AWS_SECRET_ACCESS_KEY=myminioadmin123 POSTGRES_USER=mlflowuser POSTGRES_PASSWORD=mlflowpass POSTGRES_DB=mlflowdb docker compose -f  ChXpert-Chest-X-rays-Prediction/docker/docker-compose-ray-cuda-local.yaml down"
   ]
  },
  {
   "cell_type": "markdown",
   "id": "4ea8a32e",
   "metadata": {},
   "source": []
  },
  {
   "cell_type": "code",
   "execution_count": null,
   "id": "81954dac",
   "metadata": {},
   "outputs": [],
   "source": []
  },
  {
   "cell_type": "code",
   "execution_count": null,
   "id": "f52fd814",
   "metadata": {},
   "outputs": [],
   "source": []
  },
  {
   "cell_type": "markdown",
   "id": "cac3d3a7",
   "metadata": {},
   "source": [
    "``` bash\n",
    "# run on node-mltrain\n",
    "docker build -t jupyter-ray -f ChXpert-Chest-X-rays-Prediction/docker/Dockerfile.jupyter-ray .\n",
    "```\n",
    "\n",
    "Run\n",
    "\n",
    "``` bash\n",
    "# run on node-mltrain\n",
    "HOST_IP=$(curl --silent http://169.254.169.254/latest/meta-data/public-ipv4)\n",
    "\n",
    "docker run -d --rm -p 8888:8888 \\\n",
    "  -v ~/ChXpert-Chest-X-rays-Prediction/:/home/jovyan/work/ \\\n",
    "  --mount type=bind,source=/home/cc/data,target=/mnt/data \\\n",
    "  -e RAY_ADDRESS=http://${HOST_IP}:8265/ \\\n",
    "  --name jupyter \\\n",
    "  jupyter-ray\n",
    "```\n",
    "\n",
    "Then, run\n",
    "\n",
    "``` bash\n",
    "# run on node-mltrain\n",
    "docker logs jupyter\n",
    "```"
   ]
  },
  {
   "cell_type": "code",
   "execution_count": null,
   "id": "0ede9cc7",
   "metadata": {},
   "outputs": [],
   "source": []
  }
 ],
 "metadata": {
  "language_info": {
   "name": "python"
  }
 },
 "nbformat": 4,
 "nbformat_minor": 5
}
